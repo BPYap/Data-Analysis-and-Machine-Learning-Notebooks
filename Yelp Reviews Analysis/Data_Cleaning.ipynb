{
 "cells": [
  {
   "cell_type": "markdown",
   "metadata": {
    "colab_type": "text",
    "id": "zDJnu7P-QDY4"
   },
   "source": [
    "### Initialization"
   ]
  },
  {
   "cell_type": "code",
   "execution_count": 0,
   "metadata": {
    "colab": {
     "base_uri": "https://localhost:8080/",
     "height": 1000
    },
    "colab_type": "code",
    "id": "ekfM9nIZP5Ht",
    "outputId": "347adb77-10ba-4c05-fea8-2dcc57bba53d"
   },
   "outputs": [
    {
     "name": "stdout",
     "output_type": "stream",
     "text": [
      "Collecting en_core_web_md==2.1.0\n",
      "\u001b[?25l  Downloading https://github.com/explosion/spacy-models/releases/download/en_core_web_md-2.1.0/en_core_web_md-2.1.0.tar.gz (95.4MB)\n",
      "\u001b[K     |████████████████████████████████| 95.4MB 1.4MB/s \n",
      "\u001b[?25hBuilding wheels for collected packages: en-core-web-md\n",
      "  Building wheel for en-core-web-md (setup.py) ... \u001b[?25l\u001b[?25hdone\n",
      "  Created wheel for en-core-web-md: filename=en_core_web_md-2.1.0-cp36-none-any.whl size=97126237 sha256=8494154bff67ae3bec220df6b0ebff0016c16356440ed324ed6f510ef549b5c3\n",
      "  Stored in directory: /tmp/pip-ephem-wheel-cache-k17uw82v/wheels/c1/2c/5f/fd7f3ec336bf97b0809c86264d2831c5dfb00fc2e239d1bb01\n",
      "Successfully built en-core-web-md\n",
      "Installing collected packages: en-core-web-md\n",
      "Successfully installed en-core-web-md-2.1.0\n",
      "\u001b[38;5;2m✔ Download and installation successful\u001b[0m\n",
      "You can now load the model via spacy.load('en_core_web_md')\n",
      "Collecting spacy-langdetect\n",
      "  Downloading https://files.pythonhosted.org/packages/29/70/72dad19abe81ca8e85ff951da170915211d42d705a001d7e353af349a704/spacy_langdetect-0.1.2-py3-none-any.whl\n",
      "Requirement already satisfied: pytest in /usr/local/lib/python3.6/dist-packages (from spacy-langdetect) (3.6.4)\n",
      "Collecting langdetect==1.0.7\n",
      "\u001b[?25l  Downloading https://files.pythonhosted.org/packages/59/59/4bc44158a767a6d66de18c4136c8aa90491d56cc951c10b74dd1e13213c9/langdetect-1.0.7.zip (998kB)\n",
      "\u001b[K     |████████████████████████████████| 1.0MB 4.9MB/s \n",
      "\u001b[?25hRequirement already satisfied: more-itertools>=4.0.0 in /usr/local/lib/python3.6/dist-packages (from pytest->spacy-langdetect) (7.2.0)\n",
      "Requirement already satisfied: six>=1.10.0 in /usr/local/lib/python3.6/dist-packages (from pytest->spacy-langdetect) (1.12.0)\n",
      "Requirement already satisfied: py>=1.5.0 in /usr/local/lib/python3.6/dist-packages (from pytest->spacy-langdetect) (1.8.0)\n",
      "Requirement already satisfied: attrs>=17.4.0 in /usr/local/lib/python3.6/dist-packages (from pytest->spacy-langdetect) (19.3.0)\n",
      "Requirement already satisfied: atomicwrites>=1.0 in /usr/local/lib/python3.6/dist-packages (from pytest->spacy-langdetect) (1.3.0)\n",
      "Requirement already satisfied: pluggy<0.8,>=0.5 in /usr/local/lib/python3.6/dist-packages (from pytest->spacy-langdetect) (0.7.1)\n",
      "Requirement already satisfied: setuptools in /usr/local/lib/python3.6/dist-packages (from pytest->spacy-langdetect) (41.4.0)\n",
      "Building wheels for collected packages: langdetect\n",
      "  Building wheel for langdetect (setup.py) ... \u001b[?25l\u001b[?25hdone\n",
      "  Created wheel for langdetect: filename=langdetect-1.0.7-cp36-none-any.whl size=993460 sha256=751531bc90a8b463974793b34e75fba6b886c35e4450a9ecdd55f6b55ffeeeff\n",
      "  Stored in directory: /root/.cache/pip/wheels/ec/0c/a9/1647275e7ef5014e7b83ff30105180e332867d65e7617ddafe\n",
      "Successfully built langdetect\n",
      "Installing collected packages: langdetect, spacy-langdetect\n",
      "Successfully installed langdetect-1.0.7 spacy-langdetect-0.1.2\n",
      "\n",
      "Finished loading 15300 records to pandas DataFrame.\n",
      "\n",
      "Sample records:\n"
     ]
    },
    {
     "data": {
      "text/html": [
       "<div>\n",
       "<style scoped>\n",
       "    .dataframe tbody tr th:only-of-type {\n",
       "        vertical-align: middle;\n",
       "    }\n",
       "\n",
       "    .dataframe tbody tr th {\n",
       "        vertical-align: top;\n",
       "    }\n",
       "\n",
       "    .dataframe thead th {\n",
       "        text-align: right;\n",
       "    }\n",
       "</style>\n",
       "<table border=\"1\" class=\"dataframe\">\n",
       "  <thead>\n",
       "    <tr style=\"text-align: right;\">\n",
       "      <th></th>\n",
       "      <th>review_id</th>\n",
       "      <th>business_id</th>\n",
       "      <th>date</th>\n",
       "      <th>user_id</th>\n",
       "      <th>text</th>\n",
       "      <th>stars</th>\n",
       "      <th>useful</th>\n",
       "      <th>funny</th>\n",
       "      <th>cool</th>\n",
       "    </tr>\n",
       "  </thead>\n",
       "  <tbody>\n",
       "    <tr>\n",
       "      <th>0</th>\n",
       "      <td>8aoJJdKEO3ypoZNszpPu7Q</td>\n",
       "      <td>ZBE-H_aUlicix_9vUGQPIQ</td>\n",
       "      <td>2016-11-09 20:07:25</td>\n",
       "      <td>bGgAL09pxLnV_FFgR4ZADg</td>\n",
       "      <td>We had my Mother's Birthday Party here on 10/29/16. What a Great time we all had. The food, music and waiters were Great!!! Thanks Lyles!!!</td>\n",
       "      <td>5.0</td>\n",
       "      <td>0</td>\n",
       "      <td>0</td>\n",
       "      <td>0</td>\n",
       "    </tr>\n",
       "    <tr>\n",
       "      <th>1</th>\n",
       "      <td>J5NOCLdhuhor7USRhtYZ8w</td>\n",
       "      <td>e-YnECeZNt8ngm0tu4X9mQ</td>\n",
       "      <td>2015-12-05 05:06:43</td>\n",
       "      <td>pFCb-1j6oI3TDjr26h2cJQ</td>\n",
       "      <td>Good Korean grill near Eaton Centre. The marinate is good. We got beef, ox liver, salmon, fish fillet, chicken, pork, pork belly. The fish fillet was bland and liver was meh. Salmon and chicken was really flavourable. Such a fun place to eat at for a date or group of friends. Even alone. No judgments here. \\nThe staff is attentive, nice and considerate. Bigger groups will most likely be seated on the second floor which is way bigger.\\nCaution: will smell like BBQ grill after.</td>\n",
       "      <td>4.0</td>\n",
       "      <td>0</td>\n",
       "      <td>0</td>\n",
       "      <td>0</td>\n",
       "    </tr>\n",
       "    <tr>\n",
       "      <th>2</th>\n",
       "      <td>PXiLWAYRt3xnHaJ8MB4rzw</td>\n",
       "      <td>j7HO1YeMQGYo3KibMXZ5vg</td>\n",
       "      <td>2014-10-11 05:16:15</td>\n",
       "      <td>mEzc6LeTNiQgIVsq3poMbg</td>\n",
       "      <td>Was recommended to try this place by few people and today was my first time here. All I can say is, I am coming back very soon.\\n\\nSERVICE\\nWasn't sure if the guy was the owner but he was friendly and talked story while we waited for our food. Loved it!! Food came out within 10 min. \\n\\nFOOD\\nTried hamburger steak and it was so delicious. Gravy/sauce they put on the hamburger steak was perfect! Also came with onion rings on top which I love. Chicken katsu was amazing! Chicken katsu here is crunchy and surprisingly has a flavor by itself that you really don't need a sauce for it. Best chicken katsu I had. \\n\\nOVERALL\\nIt was a journey to get to this place as it took about 30min from my house but the service and food here made it worth the drive. I also love how they had a poster of Keali'i Reichel. (They had other posters but Keali'i Reichel happens to be my favorite). Place is clean, service is fast and friendly and food is delicious. What more could you ask for?</td>\n",
       "      <td>5.0</td>\n",
       "      <td>2</td>\n",
       "      <td>1</td>\n",
       "      <td>3</td>\n",
       "    </tr>\n",
       "    <tr>\n",
       "      <th>3</th>\n",
       "      <td>VrLarvxZYJm74yAqtpe9PQ</td>\n",
       "      <td>7e3PZzUpG5FYOTGt3O3ePA</td>\n",
       "      <td>2016-07-25 03:45:26</td>\n",
       "      <td>o-zUN2WEZgjQS7jnNsec0g</td>\n",
       "      <td>Ambience: Would not expect something this nice at Cannery Hotel but it is the nicest looking restaurant there. More for couples than group gatherings.\\n\\nService: The ambience &amp; food make up for this, which unfortunately for us, the service has been terrible. We have come fairly close to restaurant closing both times (within the hour), but they do close very early for Vegas. The staff makes it VERY clear that they want to go home right from the start in hurrying orders and are more aggressive as time goes on. Unfortunate.\\n\\nFood: Very good. A little salty on some items during our first visit but good overall and again, warrants the overall 3 stars. Steak. Scallops wrapped in bacon. Calamari. Cobb salad. etc.</td>\n",
       "      <td>3.0</td>\n",
       "      <td>0</td>\n",
       "      <td>0</td>\n",
       "      <td>0</td>\n",
       "    </tr>\n",
       "    <tr>\n",
       "      <th>4</th>\n",
       "      <td>C1CUpidlVFprUCkApqzCmA</td>\n",
       "      <td>vuHzLZ7nAeT-EiecOkS5Og</td>\n",
       "      <td>2016-04-11 18:49:11</td>\n",
       "      <td>Wlx0iBXJvk4x0EeOt2Bz1Q</td>\n",
       "      <td>Absolutely the WORST pool company that I have EVER had to deal with.  The customer service is horrible.  After leaving many messages over the course of a few weeks I was only able to contact them when I called them AGAIN.  I asked to speak with the actual pool tech who initially came to my house.  The RUDE lady on the phone told me that she was more than capable to answer my questions - about a pump that SHE HAS NOT SEEN, and about a conversation I had with the tech THAT SHE DID NOT HEAR.  \\n\\nI was assigned to them by my home warranty company, and I will be filing a serious complaint with them and the BBB.  I was told to take the cash out option from the warranty company for the part and then they would do the work and I could just pay them directly.  After I received the cash out and called to schedule the appointment I was told that I need to replace the entire pool pump system and that would cost an additional $400 and that there was an electrical problem and that it would cost...</td>\n",
       "      <td>1.0</td>\n",
       "      <td>11</td>\n",
       "      <td>0</td>\n",
       "      <td>3</td>\n",
       "    </tr>\n",
       "  </tbody>\n",
       "</table>\n",
       "</div>"
      ],
      "text/plain": [
       "                review_id             business_id                 date                 user_id  \\\n",
       "0  8aoJJdKEO3ypoZNszpPu7Q  ZBE-H_aUlicix_9vUGQPIQ  2016-11-09 20:07:25  bGgAL09pxLnV_FFgR4ZADg   \n",
       "1  J5NOCLdhuhor7USRhtYZ8w  e-YnECeZNt8ngm0tu4X9mQ  2015-12-05 05:06:43  pFCb-1j6oI3TDjr26h2cJQ   \n",
       "2  PXiLWAYRt3xnHaJ8MB4rzw  j7HO1YeMQGYo3KibMXZ5vg  2014-10-11 05:16:15  mEzc6LeTNiQgIVsq3poMbg   \n",
       "3  VrLarvxZYJm74yAqtpe9PQ  7e3PZzUpG5FYOTGt3O3ePA  2016-07-25 03:45:26  o-zUN2WEZgjQS7jnNsec0g   \n",
       "4  C1CUpidlVFprUCkApqzCmA  vuHzLZ7nAeT-EiecOkS5Og  2016-04-11 18:49:11  Wlx0iBXJvk4x0EeOt2Bz1Q   \n",
       "\n",
       "                                                                                                                                                                                                                                                                                                                                                                                                                                                                                                                                                                                                                                                                                                                                                                                                                                                                                                                                                                                                                                      text  \\\n",
       "0                                                                                                                                                                                                                                                                                                                                                                                                                                                                                                                                                                                                                                                                                                                                                                                                                                                                                              We had my Mother's Birthday Party here on 10/29/16. What a Great time we all had. The food, music and waiters were Great!!! Thanks Lyles!!!   \n",
       "1                                                                                                                                                                                                                                                                                                                                                                                                                                                                                                                                         Good Korean grill near Eaton Centre. The marinate is good. We got beef, ox liver, salmon, fish fillet, chicken, pork, pork belly. The fish fillet was bland and liver was meh. Salmon and chicken was really flavourable. Such a fun place to eat at for a date or group of friends. Even alone. No judgments here. \\nThe staff is attentive, nice and considerate. Bigger groups will most likely be seated on the second floor which is way bigger.\\nCaution: will smell like BBQ grill after.   \n",
       "2                        Was recommended to try this place by few people and today was my first time here. All I can say is, I am coming back very soon.\\n\\nSERVICE\\nWasn't sure if the guy was the owner but he was friendly and talked story while we waited for our food. Loved it!! Food came out within 10 min. \\n\\nFOOD\\nTried hamburger steak and it was so delicious. Gravy/sauce they put on the hamburger steak was perfect! Also came with onion rings on top which I love. Chicken katsu was amazing! Chicken katsu here is crunchy and surprisingly has a flavor by itself that you really don't need a sauce for it. Best chicken katsu I had. \\n\\nOVERALL\\nIt was a journey to get to this place as it took about 30min from my house but the service and food here made it worth the drive. I also love how they had a poster of Keali'i Reichel. (They had other posters but Keali'i Reichel happens to be my favorite). Place is clean, service is fast and friendly and food is delicious. What more could you ask for?   \n",
       "3                                                                                                                                                                                                                                                                                           Ambience: Would not expect something this nice at Cannery Hotel but it is the nicest looking restaurant there. More for couples than group gatherings.\\n\\nService: The ambience & food make up for this, which unfortunately for us, the service has been terrible. We have come fairly close to restaurant closing both times (within the hour), but they do close very early for Vegas. The staff makes it VERY clear that they want to go home right from the start in hurrying orders and are more aggressive as time goes on. Unfortunate.\\n\\nFood: Very good. A little salty on some items during our first visit but good overall and again, warrants the overall 3 stars. Steak. Scallops wrapped in bacon. Calamari. Cobb salad. etc.   \n",
       "4  Absolutely the WORST pool company that I have EVER had to deal with.  The customer service is horrible.  After leaving many messages over the course of a few weeks I was only able to contact them when I called them AGAIN.  I asked to speak with the actual pool tech who initially came to my house.  The RUDE lady on the phone told me that she was more than capable to answer my questions - about a pump that SHE HAS NOT SEEN, and about a conversation I had with the tech THAT SHE DID NOT HEAR.  \\n\\nI was assigned to them by my home warranty company, and I will be filing a serious complaint with them and the BBB.  I was told to take the cash out option from the warranty company for the part and then they would do the work and I could just pay them directly.  After I received the cash out and called to schedule the appointment I was told that I need to replace the entire pool pump system and that would cost an additional $400 and that there was an electrical problem and that it would cost...   \n",
       "\n",
       "   stars  useful  funny  cool  \n",
       "0    5.0       0      0     0  \n",
       "1    4.0       0      0     0  \n",
       "2    5.0       2      1     3  \n",
       "3    3.0       0      0     0  \n",
       "4    1.0      11      0     3  "
      ]
     },
     "metadata": {
      "tags": []
     },
     "output_type": "display_data"
    },
    {
     "name": "stdout",
     "output_type": "stream",
     "text": [
      "\n",
      "Preliminary analysis:\n"
     ]
    },
    {
     "data": {
      "text/html": [
       "<div>\n",
       "<style scoped>\n",
       "    .dataframe tbody tr th:only-of-type {\n",
       "        vertical-align: middle;\n",
       "    }\n",
       "\n",
       "    .dataframe tbody tr th {\n",
       "        vertical-align: top;\n",
       "    }\n",
       "\n",
       "    .dataframe thead th {\n",
       "        text-align: right;\n",
       "    }\n",
       "</style>\n",
       "<table border=\"1\" class=\"dataframe\">\n",
       "  <thead>\n",
       "    <tr style=\"text-align: right;\">\n",
       "      <th></th>\n",
       "      <th>stars</th>\n",
       "      <th>useful</th>\n",
       "      <th>funny</th>\n",
       "      <th>cool</th>\n",
       "    </tr>\n",
       "  </thead>\n",
       "  <tbody>\n",
       "    <tr>\n",
       "      <th>count</th>\n",
       "      <td>15300.000000</td>\n",
       "      <td>15300.000000</td>\n",
       "      <td>15300.000000</td>\n",
       "      <td>15300.000000</td>\n",
       "    </tr>\n",
       "    <tr>\n",
       "      <th>mean</th>\n",
       "      <td>3.646601</td>\n",
       "      <td>1.292745</td>\n",
       "      <td>0.430000</td>\n",
       "      <td>0.514575</td>\n",
       "    </tr>\n",
       "    <tr>\n",
       "      <th>std</th>\n",
       "      <td>1.455130</td>\n",
       "      <td>3.241261</td>\n",
       "      <td>1.866658</td>\n",
       "      <td>2.334050</td>\n",
       "    </tr>\n",
       "    <tr>\n",
       "      <th>min</th>\n",
       "      <td>1.000000</td>\n",
       "      <td>0.000000</td>\n",
       "      <td>0.000000</td>\n",
       "      <td>0.000000</td>\n",
       "    </tr>\n",
       "    <tr>\n",
       "      <th>25%</th>\n",
       "      <td>3.000000</td>\n",
       "      <td>0.000000</td>\n",
       "      <td>0.000000</td>\n",
       "      <td>0.000000</td>\n",
       "    </tr>\n",
       "    <tr>\n",
       "      <th>50%</th>\n",
       "      <td>4.000000</td>\n",
       "      <td>0.000000</td>\n",
       "      <td>0.000000</td>\n",
       "      <td>0.000000</td>\n",
       "    </tr>\n",
       "    <tr>\n",
       "      <th>75%</th>\n",
       "      <td>5.000000</td>\n",
       "      <td>1.000000</td>\n",
       "      <td>0.000000</td>\n",
       "      <td>0.000000</td>\n",
       "    </tr>\n",
       "    <tr>\n",
       "      <th>max</th>\n",
       "      <td>5.000000</td>\n",
       "      <td>191.000000</td>\n",
       "      <td>122.000000</td>\n",
       "      <td>180.000000</td>\n",
       "    </tr>\n",
       "  </tbody>\n",
       "</table>\n",
       "</div>"
      ],
      "text/plain": [
       "              stars        useful         funny          cool\n",
       "count  15300.000000  15300.000000  15300.000000  15300.000000\n",
       "mean       3.646601      1.292745      0.430000      0.514575\n",
       "std        1.455130      3.241261      1.866658      2.334050\n",
       "min        1.000000      0.000000      0.000000      0.000000\n",
       "25%        3.000000      0.000000      0.000000      0.000000\n",
       "50%        4.000000      0.000000      0.000000      0.000000\n",
       "75%        5.000000      1.000000      0.000000      0.000000\n",
       "max        5.000000    191.000000    122.000000    180.000000"
      ]
     },
     "execution_count": 2,
     "metadata": {
      "tags": []
     },
     "output_type": "execute_result"
    }
   ],
   "source": [
    "# Download spaCy models\n",
    "!python -m spacy download en_core_web_md\n",
    "!pip install spacy-langdetect\n",
    "\n",
    "import json\n",
    "\n",
    "import en_core_web_md\n",
    "import pandas as pd\n",
    "from IPython.display import display\n",
    "from spacy_langdetect import LanguageDetector\n",
    "\n",
    "# pandas display settings\n",
    "pd.set_option('display.max_columns', 10)\n",
    "pd.set_option('max_colwidth', 1000)\n",
    "pd.set_option('display.width', 1000)\n",
    "\n",
    "# Initialize spaCy pipeline\n",
    "SPACY = en_core_web_md.load()\n",
    "SPACY.add_pipe(LanguageDetector(), name='language_detector', last=True)\n",
    "\n",
    "RANDOM_SEED = 42  # for reproducibility\n",
    "\n",
    "# Load Yelp reviews\n",
    "reviews = []\n",
    "with open(\"data/reviewSelected100.json\", 'r', encoding='latin-1') as f:\n",
    "    for line in f:\n",
    "        reviews.append(json.loads(line))\n",
    "\n",
    "column_order = ['review_id', 'business_id', 'date', 'user_id', 'text', 'stars', 'useful', 'funny', 'cool']\n",
    "YELP_REVIEWS = pd.DataFrame.from_records(reviews, columns=column_order)\n",
    "YELP_REVIEWS.infer_objects()\n",
    "\n",
    "print(f\"\\nFinished loading {len(YELP_REVIEWS)} records to pandas DataFrame.\")\n",
    "print(\"\\nSample records:\")\n",
    "\n",
    "display(YELP_REVIEWS.head())\n",
    "\n",
    "print(\"\\nPreliminary analysis:\")\n",
    "YELP_REVIEWS.describe()\n",
    "\n",
    "# Global variables (reusable in other code cells)\n",
    "# 1. SPACY: spaCy model for linguistic analysis\n",
    "# 2. RANDOM_SEED: random seed for random generation\n",
    "# 3. YELP_REVIEWS: pandas DataFrame containing Yelp reviews"
   ]
  },
  {
   "cell_type": "markdown",
   "metadata": {
    "colab_type": "text",
    "id": "TCqx7gejRpnQ"
   },
   "source": [
    "### Clean Data"
   ]
  },
  {
   "cell_type": "code",
   "execution_count": 0,
   "metadata": {
    "colab": {
     "base_uri": "https://localhost:8080/",
     "height": 158
    },
    "colab_type": "code",
    "id": "feDZbcokRx9S",
    "outputId": "a844ed25-b8bf-45f5-b9e7-80c4f1572856"
   },
   "outputs": [
    {
     "name": "stdout",
     "output_type": "stream",
     "text": [
      "Running language detection...\n"
     ]
    },
    {
     "name": "stderr",
     "output_type": "stream",
     "text": [
      "100%|██████████| 15275/15275 [08:39<00:00, 29.40it/s]\n"
     ]
    },
    {
     "name": "stdout",
     "output_type": "stream",
     "text": [
      "Language statistics: Counter({'en': 15222, 'fr': 32, 'es': 8, 'UNKNOWN': 3, 'de': 3, 'cy': 2, 'tr': 2, 'af': 1, 'nl': 1, 'ro': 1})\n",
      "\n",
      "Writing cleaned records to file...\n"
     ]
    },
    {
     "name": "stderr",
     "output_type": "stream",
     "text": [
      "100%|██████████| 15222/15222 [00:00<00:00, 28521.21it/s]"
     ]
    },
    {
     "name": "stdout",
     "output_type": "stream",
     "text": [
      "\n",
      "Done.\n"
     ]
    },
    {
     "name": "stderr",
     "output_type": "stream",
     "text": [
      "\n"
     ]
    }
   ],
   "source": [
    "import json\n",
    "from collections import Counter\n",
    "\n",
    "from tqdm import tqdm\n",
    "\n",
    "CLEANED_REVIEWS = YELP_REVIEWS.copy()\n",
    "\n",
    "# Drop unused columns\n",
    "CLEANED_REVIEWS.drop(['review_id', 'date', 'user_id', 'useful', 'funny', 'cool'], axis=1, inplace=True)\n",
    "\n",
    "# Remove duplicate records\n",
    "CLEANED_REVIEWS.drop_duplicates(inplace=True)\n",
    "\n",
    "# Remove reviews in foreign language (i.e. not english)\n",
    "language_statistics = Counter()\n",
    "CLEANED_REVIEWS['is_english'] = 0\n",
    "print(\"Running language detection...\")\n",
    "for index, row in tqdm(list(CLEANED_REVIEWS.iterrows())):\n",
    "    doc = SPACY(row['text'])\n",
    "    language = doc._.language['language'] \n",
    "    language_statistics[language] += 1\n",
    "    if language == 'en':\n",
    "        CLEANED_REVIEWS.at[index, 'is_english'] = 1\n",
    "print(\"Language statistics:\", language_statistics)\n",
    "CLEANED_REVIEWS = CLEANED_REVIEWS.loc[CLEANED_REVIEWS['is_english'] == 1].drop('is_english', axis=1)\n",
    "\n",
    "# Write cleaned data to file\n",
    "print(\"\\nWriting cleaned records to file...\")\n",
    "with open(\"data/reviewCleaned.json\", 'w', encoding='latin-1') as f:\n",
    "    for _, row in tqdm(list(CLEANED_REVIEWS.iterrows())):\n",
    "        json_text = json.dumps(\n",
    "            {\n",
    "                'business_id': row['business_id'],\n",
    "                'text': row['text'],\n",
    "                'stars': row['stars']\n",
    "            }\n",
    "        )\n",
    "        print(json_text, file=f)\n",
    "print(\"\\nDone.\")"
   ]
  }
 ],
 "metadata": {
  "colab": {
   "collapsed_sections": [
    "zDJnu7P-QDY4"
   ],
   "name": "Data_Cleaning.ipynb",
   "provenance": []
  },
  "kernelspec": {
   "display_name": "Python 3",
   "language": "python",
   "name": "python3"
  },
  "language_info": {
   "codemirror_mode": {
    "name": "ipython",
    "version": 3
   },
   "file_extension": ".py",
   "mimetype": "text/x-python",
   "name": "python",
   "nbconvert_exporter": "python",
   "pygments_lexer": "ipython3",
   "version": "3.6.7rc1"
  }
 },
 "nbformat": 4,
 "nbformat_minor": 1
}
