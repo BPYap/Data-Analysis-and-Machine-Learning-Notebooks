{
 "cells": [
  {
   "cell_type": "markdown",
   "metadata": {
    "id": "xqRaJ9g9pLjD",
    "colab_type": "text"
   },
   "source": [
    "## Setup"
   ]
  },
  {
   "cell_type": "code",
   "execution_count": 0,
   "metadata": {
    "id": "O6vyhJFXpbPq",
    "colab_type": "code",
    "colab": {}
   },
   "outputs": [],
   "source": [
    "import os\n",
    "import pickle\n",
    "\n",
    "from scipy.io import loadmat\n",
    "from sklearn.model_selection import StratifiedKFold\n",
    "from sklearn.neighbors import KNeighborsClassifier\n",
    "\n",
    "if not os.path.exists(\"model\"):\n",
    "    os.makedirs(\"model\")"
   ]
  },
  {
   "cell_type": "markdown",
   "metadata": {
    "id": "5PNAxB0upOqP",
    "colab_type": "text"
   },
   "source": [
    "## Load data"
   ]
  },
  {
   "cell_type": "code",
   "execution_count": 0,
   "metadata": {
    "id": "PY7L1245pLUc",
    "colab_type": "code",
    "colab": {}
   },
   "outputs": [],
   "source": [
    "train_data = dict()\n",
    "test_data = dict()\n",
    "\n",
    "for dataset in os.listdir(\"data\"):\n",
    "    data_dir = f\"data/{dataset}\"\n",
    "    train_data[dataset] = loadmat(f\"{data_dir}/{dataset}_Train.mat\")\n",
    "    test_data[dataset] = loadmat(f\"{data_dir}/{dataset}_Test.mat\")\n",
    "\n",
    "assert len(train_data.keys()) == len(test_data.keys())"
   ]
  },
  {
   "cell_type": "markdown",
   "metadata": {
    "id": "oQdXoEdor4Tk",
    "colab_type": "text"
   },
   "source": [
    "## Train"
   ]
  },
  {
   "cell_type": "code",
   "execution_count": 0,
   "metadata": {
    "id": "Hy2QPmcpqMIy",
    "colab_type": "code",
    "outputId": "6be7d79b-16c0-4c05-d592-a5c794bd8896",
    "colab": {
     "base_uri": "https://localhost:8080/",
     "height": 185.0
    }
   },
   "outputs": [
    {
     "name": "stdout",
     "output_type": "stream",
     "text": [
      "dataset: bank                n_neighbors: 13   Validation accuracy: 0.890   Train accuracy: 0.897\n",
      "dataset: car                 n_neighbors: 11   Validation accuracy: 0.941   Train accuracy: 0.968\n",
      "dataset: abalone             n_neighbors: 11   Validation accuracy: 0.641   Train accuracy: 0.694\n",
      "dataset: image-segmentation  n_neighbors: 1    Validation accuracy: 0.953   Train accuracy: 1.000\n",
      "dataset: plant-shape         n_neighbors: 1    Validation accuracy: 0.612   Train accuracy: 1.000\n",
      "dataset: wine-quality-red    n_neighbors: 1    Validation accuracy: 0.613   Train accuracy: 1.000\n",
      "dataset: titanic             n_neighbors: 11   Validation accuracy: 0.793   Train accuracy: 0.792\n",
      "dataset: ozone               n_neighbors: 15   Validation accuracy: 0.969   Train accuracy: 0.970\n",
      "dataset: led-display         n_neighbors: 3    Validation accuracy: 0.708   Train accuracy: 0.743\n",
      "dataset: yeast               n_neighbors: 15   Validation accuracy: 0.593   Train accuracy: 0.630\n"
     ]
    }
   ],
   "source": [
    "folds = 4\n",
    "candidates_n = [1, 3, 5, 7, 9, 11, 13, 15]\n",
    "\n",
    "cross_validator = StratifiedKFold(n_splits=folds)\n",
    "for dataset, mat in train_data.items():\n",
    "    print(f\"dataset: {dataset:<20}\", end='')\n",
    "\n",
    "    data = mat['Data']\n",
    "    labels = mat['Label'].flatten()\n",
    "\n",
    "    # stratified k-fold cross-validation\n",
    "    validation_accuracies = dict()\n",
    "    for n in candidates_n:\n",
    "        cumulative_accuracy = 0\n",
    "        for train_indices, test_indices in cross_validator.split(data, labels):\n",
    "            model = KNeighborsClassifier(n_neighbors=n, algorithm='brute')\n",
    "            model.fit(data[train_indices], labels[train_indices])\n",
    "            cumulative_accuracy += model.score(data[test_indices], labels[test_indices])\n",
    "        validation_accuracies[n] = cumulative_accuracy / folds\n",
    "\n",
    "    best_n, validation_acc = list(sorted(validation_accuracies.items(), key=lambda item: item[1], reverse=True))[0]\n",
    "    model = KNeighborsClassifier(n_neighbors=best_n, algorithm='brute')\n",
    "    model.fit(data, labels)\n",
    "\n",
    "    print(f\"n_neighbors: {best_n:<5}\", end='')\n",
    "    print(f\"Validation accuracy: {validation_acc:<8.3f}\", end='')\n",
    "    print(f\"Train accuracy: {model.score(data, labels):.3f}\")\n",
    "\n",
    "    # save model\n",
    "    with open(f\"model/knn_{dataset}\", 'wb') as f:\n",
    "        pickle.dump(model, f)"
   ]
  },
  {
   "cell_type": "markdown",
   "metadata": {
    "id": "FdszpB_Ir8zN",
    "colab_type": "text"
   },
   "source": [
    "## Test"
   ]
  },
  {
   "cell_type": "code",
   "execution_count": 0,
   "metadata": {
    "id": "UAg1s4ZLr-0C",
    "colab_type": "code",
    "outputId": "f00995d6-5add-4493-b6a3-e2487738b119",
    "colab": {
     "base_uri": "https://localhost:8080/",
     "height": 185.0
    }
   },
   "outputs": [
    {
     "name": "stdout",
     "output_type": "stream",
     "text": [
      "dataset: bank                n_neighbors: 13   Test accuracy: 0.8983425414364641\n",
      "dataset: car                 n_neighbors: 11   Test accuracy: 0.9508670520231214\n",
      "dataset: abalone             n_neighbors: 11   Test accuracy: 0.6279904306220095\n",
      "dataset: image-segmentation  n_neighbors: 1    Test accuracy: 0.9632034632034632\n",
      "dataset: plant-shape         n_neighbors: 1    Test accuracy: 0.63125\n",
      "dataset: wine-quality-red    n_neighbors: 1    Test accuracy: 0.61875\n",
      "dataset: titanic             n_neighbors: 11   Test accuracy: 0.7777777777777778\n",
      "dataset: ozone               n_neighbors: 15   Test accuracy: 0.9822834645669292\n",
      "dataset: led-display         n_neighbors: 3    Test accuracy: 0.68\n",
      "dataset: yeast               n_neighbors: 15   Test accuracy: 0.5993265993265994\n"
     ]
    }
   ],
   "source": [
    "for dataset, mat in test_data.items():\n",
    "    print(f\"dataset: {dataset:<20}\", end='')\n",
    "\n",
    "    # load model\n",
    "    with open(f\"model/knn_{dataset}\", 'rb') as f:\n",
    "        model = pickle.load(f)\n",
    "\n",
    "    print(f\"n_neighbors: {model.n_neighbors:<5}\", end='')\n",
    "    print(f\"Test accuracy: {model.score(mat['Data'], mat['Label'].flatten())}\")"
   ]
  }
 ],
 "metadata": {
  "colab": {
   "name": "K-nearest neighbors",
   "provenance": [],
   "collapsed_sections": []
  },
  "kernelspec": {
   "name": "python3",
   "display_name": "Python 3"
  }
 },
 "nbformat": 4,
 "nbformat_minor": 0
}
