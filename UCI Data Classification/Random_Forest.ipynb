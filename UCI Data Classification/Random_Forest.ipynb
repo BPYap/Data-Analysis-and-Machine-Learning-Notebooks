{
 "cells": [
  {
   "cell_type": "markdown",
   "metadata": {
    "id": "xqRaJ9g9pLjD",
    "colab_type": "text"
   },
   "source": [
    "## Setup"
   ]
  },
  {
   "cell_type": "code",
   "execution_count": 0,
   "metadata": {
    "id": "O6vyhJFXpbPq",
    "colab_type": "code",
    "colab": {}
   },
   "outputs": [],
   "source": [
    "import os\n",
    "import pickle\n",
    "from itertools import product\n",
    "\n",
    "from scipy.io import loadmat\n",
    "from sklearn.model_selection import StratifiedKFold\n",
    "from sklearn.ensemble import RandomForestClassifier\n",
    "\n",
    "if not os.path.exists(\"model\"):\n",
    "    os.makedirs(\"model\")"
   ]
  },
  {
   "cell_type": "markdown",
   "metadata": {
    "id": "5PNAxB0upOqP",
    "colab_type": "text"
   },
   "source": [
    "## Load data"
   ]
  },
  {
   "cell_type": "code",
   "execution_count": 0,
   "metadata": {
    "id": "PY7L1245pLUc",
    "colab_type": "code",
    "colab": {}
   },
   "outputs": [],
   "source": [
    "train_data = dict()\n",
    "test_data = dict()\n",
    "\n",
    "for dataset in os.listdir(\"data\"):\n",
    "    data_dir = f\"data/{dataset}\"\n",
    "    train_data[dataset] = loadmat(f\"{data_dir}/{dataset}_Train.mat\")\n",
    "    test_data[dataset] = loadmat(f\"{data_dir}/{dataset}_Test.mat\")\n",
    "\n",
    "assert len(train_data.keys()) == len(test_data.keys())"
   ]
  },
  {
   "cell_type": "markdown",
   "metadata": {
    "id": "oQdXoEdor4Tk",
    "colab_type": "text"
   },
   "source": [
    "## Train"
   ]
  },
  {
   "cell_type": "code",
   "execution_count": 0,
   "metadata": {
    "id": "Hy2QPmcpqMIy",
    "colab_type": "code",
    "outputId": "67fdd7d1-71f4-431c-a37d-6e99e9234858",
    "colab": {
     "base_uri": "https://localhost:8080/",
     "height": 185.0
    }
   },
   "outputs": [
    {
     "name": "stdout",
     "output_type": "stream",
     "text": [
      "dataset: bank                n_estimators: 50   min_samples_leaf: 3  max_features: sqrt  Validation accuracy: 0.898 Train accuracy: 0.957\n",
      "dataset: car                 n_estimators: 100  min_samples_leaf: 1  max_features: sqrt  Validation accuracy: 0.976 Train accuracy: 1.000\n",
      "dataset: abalone             n_estimators: 200  min_samples_leaf: 7  max_features: sqrt  Validation accuracy: 0.657 Train accuracy: 0.819\n",
      "dataset: image-segmentation  n_estimators: 100  min_samples_leaf: 1  max_features: sqrt  Validation accuracy: 0.973 Train accuracy: 1.000\n",
      "dataset: plant-shape         n_estimators: 200  min_samples_leaf: 1  max_features: log2  Validation accuracy: 0.616 Train accuracy: 1.000\n",
      "dataset: wine-quality-red    n_estimators: 250  min_samples_leaf: 1  max_features: log2  Validation accuracy: 0.694 Train accuracy: 1.000\n",
      "dataset: titanic             n_estimators: 50   min_samples_leaf: 5  max_features: log2  Validation accuracy: 0.793 Train accuracy: 0.793\n",
      "dataset: ozone               n_estimators: 100  min_samples_leaf: 3  max_features: log2  Validation accuracy: 0.969 Train accuracy: 0.985\n",
      "dataset: led-display         n_estimators: 200  min_samples_leaf: 5  max_features: log2  Validation accuracy: 0.738 Train accuracy: 0.757\n",
      "dataset: yeast               n_estimators: 50   min_samples_leaf: 5  max_features: sqrt  Validation accuracy: 0.617 Train accuracy: 0.747\n"
     ]
    }
   ],
   "source": [
    "folds = 4\n",
    "num_trees = [50, 100, 150, 200, 250]\n",
    "min_node_sizes = [1, 3, 5, 7, 9]\n",
    "num_features = ['sqrt', 'log2', None]\n",
    "\n",
    "cross_validator = StratifiedKFold(n_splits=folds)\n",
    "for dataset, mat in train_data.items():\n",
    "    print(f\"dataset: {dataset:<20}\", end='')\n",
    "\n",
    "    data = mat['Data']\n",
    "    labels = mat['Label'].flatten()\n",
    "\n",
    "    # stratified k-fold cross-validation\n",
    "    validation_accuracies = dict()\n",
    "    for n_tree, node_size, n_feat in product(num_trees, min_node_sizes, num_features):\n",
    "        cumulative_accuracy = 0\n",
    "        for train_indices, test_indices in cross_validator.split(data, labels):\n",
    "            model = RandomForestClassifier(n_estimators=n_tree, min_samples_leaf=node_size, max_features=n_feat)\n",
    "            model.fit(data[train_indices], labels[train_indices])\n",
    "            cumulative_accuracy += model.score(data[test_indices], labels[test_indices])\n",
    "        validation_accuracies[(n_tree, node_size, n_feat)] = cumulative_accuracy / folds\n",
    "\n",
    "    (n_tree, node_size, n_feat), validation_acc = list(sorted(validation_accuracies.items(), key=lambda item: item[1], reverse=True))[0]\n",
    "    model = RandomForestClassifier(n_estimators=n_tree, min_samples_leaf=node_size, max_features=n_feat)\n",
    "    model.fit(data, labels)\n",
    "\n",
    "    print(f\"n_estimators: {n_tree:<5}\", end='')\n",
    "    print(f\"min_samples_leaf: {node_size:<3}\", end='')\n",
    "    print(f\"max_features: {str(n_feat):<6}\", end='')\n",
    "    print(f\"Validation accuracy: {validation_acc:<6.3f}\", end='')\n",
    "    print(f\"Train accuracy: {model.score(data, labels):.3f}\")\n",
    "\n",
    "    # save model\n",
    "    with open(f\"model/rf_{dataset}\", 'wb') as f:\n",
    "        pickle.dump(model, f)"
   ]
  },
  {
   "cell_type": "markdown",
   "metadata": {
    "id": "FdszpB_Ir8zN",
    "colab_type": "text"
   },
   "source": [
    "## Test"
   ]
  },
  {
   "cell_type": "code",
   "execution_count": 0,
   "metadata": {
    "id": "UAg1s4ZLr-0C",
    "colab_type": "code",
    "outputId": "1024af36-1098-4c49-a702-9e6ff2e2e4ee",
    "colab": {
     "base_uri": "https://localhost:8080/",
     "height": 185.0
    }
   },
   "outputs": [
    {
     "name": "stdout",
     "output_type": "stream",
     "text": [
      "dataset: bank                n_estimators: 50   min_samples_leaf: 3  max_features: sqrt  Test accuracy: 0.9005524861878453\n",
      "dataset: car                 n_estimators: 100  min_samples_leaf: 1  max_features: sqrt  Test accuracy: 0.9682080924855492\n",
      "dataset: abalone             n_estimators: 200  min_samples_leaf: 7  max_features: sqrt  Test accuracy: 0.6519138755980861\n",
      "dataset: image-segmentation  n_estimators: 100  min_samples_leaf: 1  max_features: sqrt  Test accuracy: 0.9805194805194806\n",
      "dataset: plant-shape         n_estimators: 200  min_samples_leaf: 1  max_features: log2  Test accuracy: 0.596875\n",
      "dataset: wine-quality-red    n_estimators: 250  min_samples_leaf: 1  max_features: log2  Test accuracy: 0.671875\n",
      "dataset: titanic             n_estimators: 50   min_samples_leaf: 5  max_features: log2  Test accuracy: 0.782312925170068\n",
      "dataset: ozone               n_estimators: 100  min_samples_leaf: 3  max_features: log2  Test accuracy: 0.9822834645669292\n",
      "dataset: led-display         n_estimators: 200  min_samples_leaf: 5  max_features: log2  Test accuracy: 0.705\n",
      "dataset: yeast               n_estimators: 50   min_samples_leaf: 5  max_features: sqrt  Test accuracy: 0.6127946127946128\n"
     ]
    }
   ],
   "source": [
    "for dataset, mat in test_data.items():\n",
    "    print(f\"dataset: {dataset:<20}\", end='')\n",
    "\n",
    "    # load model\n",
    "    with open(f\"model/rf_{dataset}\", 'rb') as f:\n",
    "        model = pickle.load(f)\n",
    "\n",
    "    print(f\"n_estimators: {model.n_estimators:<5}\", end='')\n",
    "    print(f\"min_samples_leaf: {model.min_samples_leaf:<3}\", end='')\n",
    "    print(f\"max_features: {str(model.max_features):<6}\", end='')\n",
    "    print(f\"Test accuracy: {model.score(mat['Data'], mat['Label'].flatten())}\")"
   ]
  }
 ],
 "metadata": {
  "colab": {
   "name": "Random Forest",
   "provenance": [],
   "collapsed_sections": []
  },
  "kernelspec": {
   "name": "python3",
   "display_name": "Python 3"
  }
 },
 "nbformat": 4,
 "nbformat_minor": 0
}
